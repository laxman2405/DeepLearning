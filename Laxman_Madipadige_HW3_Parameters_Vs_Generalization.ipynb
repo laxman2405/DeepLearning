{
 "cells": [
  {
   "cell_type": "code",
   "execution_count": 1,
   "id": "2136b8dc-bd7d-4bef-b882-8a761f361e65",
   "metadata": {
    "tags": []
   },
   "outputs": [],
   "source": [
    "import torch\n",
    "import torch.nn as nn\n",
    "import torch.nn.functional as F\n",
    "import torchvision\n",
    "import torchvision.transforms as transforms\n",
    "import numpy as np\n",
    "import matplotlib.pyplot as pt\n",
    "\n",
    "#load the dataset\n",
    "trans = transforms.Compose([transforms.ToTensor(), transforms.Normalize((0.1307,),(0.3081,))])\n",
    "training_set = torchvision.datasets.MNIST(root='./data', train = True, download = True, transform = trans)\n",
    "testing_set = torchvision.datasets.MNIST(root='./data', train = False, download = True, transform = trans)\n",
    "\n",
    "train_loader = torch.utils.data.DataLoader(training_set, batch_size=128, shuffle=True)\n",
    "test_loader = torch.utils.data.DataLoader(testing_set, batch_size=128, shuffle=True)"
   ]
  },
  {
   "cell_type": "code",
   "execution_count": 2,
   "id": "836b0bae-b1f0-4f99-896e-d0378681fbad",
   "metadata": {
    "tags": []
   },
   "outputs": [],
   "source": [
    "#Constructing Model\n",
    "class Model(nn.Module):\n",
    "    def __init__(self, inputlayer, hidden, output):\n",
    "        super(Model, self).__init__()\n",
    "        self.fc1 = nn.Linear(inputlayer, hidden)\n",
    "        self.fc2 = nn.Linear(hidden, hidden//2)\n",
    "        self.fc3 = nn.Linear(hidden//2, output)\n",
    "        self.relu = nn.ReLU()\n",
    "        \n",
    "    def forward(self, x):\n",
    "        x = x.view(-1, 28*28*1)\n",
    "        x = self.relu(self.fc1(x))\n",
    "        x = self.relu(self.fc2(x))\n",
    "        x = self.relu(self.fc3(x))\n",
    "        return x"
   ]
  },
  {
   "cell_type": "code",
   "execution_count": 3,
   "id": "57be23dd-155e-4eb2-b1ba-28f3f7c32e58",
   "metadata": {
    "tags": []
   },
   "outputs": [],
   "source": [
    "def compute_metrics(model, optimizer, trainloader, testloader, epochs=10):\n",
    "    model.train()\n",
    "    compute_train_losses, compute_train_accuracy = [], []\n",
    "    epoch = 0\n",
    "    while epoch < epochs:\n",
    "        total_train_loss = 0.0\n",
    "        train_correct = 0.0\n",
    "        train_total = 0.0\n",
    "        for inputs, labels in trainloader:\n",
    "            optimizer.zero_grad()\n",
    "            predicted_outputs = model(inputs)\n",
    "            loss = loss_function(predicted_outputs, labels)\n",
    "            loss.backward()\n",
    "            optimizer.step()\n",
    "            total_train_loss += loss.item()\n",
    "            predicted = predicted_outputs.argmax(dim=1)\n",
    "            train_total += labels.size(0)\n",
    "            train_correct += (predicted == labels).sum().item()\n",
    "            \n",
    "        compute_train_losses = (total_train_loss / len(trainloader))\n",
    "        compute_train_accuracy = (train_correct / train_total)\n",
    "        \n",
    "        compute_test_losses, compute_test_acc = compute_test_metrics(model, testloader)\n",
    "        print(f'Epoch: {epoch+1}, Train Loss: {compute_train_losses}, Test Loss: {compute_test_losses}')\n",
    "        epoch +=1\n",
    "    return compute_train_losses, compute_test_losses, compute_train_accuracy, compute_test_acc, sum(p.numel() for p in model.parameters())\n",
    "\n",
    "def compute_test_metrics(model, testloader):\n",
    "    compute_test_losses, compute_test_accuracies = [], []\n",
    "    model.eval()\n",
    "    total_test_loss = 0.0\n",
    "    test_correct = 0.0\n",
    "    test_total = 0.0\n",
    "    with torch.no_grad():\n",
    "        for inputs, labels in testloader:\n",
    "            predicted_outputs = model(inputs)\n",
    "            total_test_loss += loss_function(predicted_outputs, labels).item()\n",
    "            predicted = predicted_outputs.argmax(dim=1)\n",
    "            test_total += labels.size(0)\n",
    "            test_correct += (predicted == labels).sum().item()\n",
    "                \n",
    "    compute_test_losses = (total_test_loss / len(testloader))\n",
    "    compute_test_accuracies = (test_correct / test_total)\n",
    "    return compute_test_losses, compute_test_accuracies"
   ]
  },
  {
   "cell_type": "code",
   "execution_count": 4,
   "id": "6bfe213b-f909-4d9b-8af3-e94e39c7fc74",
   "metadata": {
    "tags": []
   },
   "outputs": [
    {
     "name": "stdout",
     "output_type": "stream",
     "text": [
      "Number of paramters in Model 1: 1593\n",
      "Epoch: 1, Train Loss: 2.339079708432846, Test Loss: 2.3199885042407846\n",
      "Epoch: 2, Train Loss: 2.3126948118718196, Test Loss: 2.3071761161466187\n",
      "Epoch: 3, Train Loss: 2.304844122197328, Test Loss: 2.3032791554173335\n",
      "Epoch: 4, Train Loss: 2.3029342338220395, Test Loss: 2.3026219862925856\n",
      "Epoch: 5, Train Loss: 2.3025995175213194, Test Loss: 2.3025853633880615\n",
      "Epoch: 6, Train Loss: 2.3025853633880615, Test Loss: 2.3025853633880615\n",
      "Epoch: 7, Train Loss: 2.3025853633880615, Test Loss: 2.3025853633880615\n",
      "Epoch: 8, Train Loss: 2.3025853633880615, Test Loss: 2.3025853633880615\n",
      "Epoch: 9, Train Loss: 2.3025853633880615, Test Loss: 2.3025853633880615\n",
      "Epoch: 10, Train Loss: 2.3025853633880615, Test Loss: 2.3025853633880615\n",
      "Number of paramters in Model 2: 3180\n",
      "Epoch: 1, Train Loss: 2.3173214489463043, Test Loss: 2.3087435070472426\n",
      "Epoch: 2, Train Loss: 2.305849201389467, Test Loss: 2.303392349919186\n",
      "Epoch: 3, Train Loss: 2.30257484145256, Test Loss: 2.3019698903530457\n",
      "Epoch: 4, Train Loss: 2.3018634670070495, Test Loss: 2.3017940038367164\n",
      "Epoch: 5, Train Loss: 2.3017545630936938, Test Loss: 2.3014636160452153\n",
      "Epoch: 6, Train Loss: 2.3017233724533113, Test Loss: 2.301474396186539\n",
      "Epoch: 7, Train Loss: 2.30172230541579, Test Loss: 2.3017794452136076\n",
      "Epoch: 8, Train Loss: 2.3017198520936946, Test Loss: 2.3014789593370657\n",
      "Epoch: 9, Train Loss: 2.301717976263083, Test Loss: 2.301780187630955\n",
      "Epoch: 10, Train Loss: 2.301705375663253, Test Loss: 2.301765103883381\n",
      "Number of paramters in Model 3: 4771\n",
      "Epoch: 1, Train Loss: 1.615273193001493, Test Loss: 1.3110211793380449\n",
      "Epoch: 2, Train Loss: 1.2482054285657431, Test Loss: 1.205187340325947\n",
      "Epoch: 3, Train Loss: 1.125766960796771, Test Loss: 1.0127125314519376\n",
      "Epoch: 4, Train Loss: 0.9776403381626235, Test Loss: 0.9413258599329598\n",
      "Epoch: 5, Train Loss: 0.9088747802573734, Test Loss: 0.8687760211244414\n",
      "Epoch: 6, Train Loss: 0.8275073271062074, Test Loss: 0.7870413246034067\n",
      "Epoch: 7, Train Loss: 0.7766550570281584, Test Loss: 0.7591581095623064\n",
      "Epoch: 8, Train Loss: 0.7486135989491111, Test Loss: 0.74213340086273\n",
      "Epoch: 9, Train Loss: 0.7307426755362229, Test Loss: 0.7260815142830715\n",
      "Epoch: 10, Train Loss: 0.7174641543359899, Test Loss: 0.7229414967041982\n",
      "Number of paramters in Model 4: 6366\n",
      "Epoch: 1, Train Loss: 1.522519657098408, Test Loss: 1.1061269105235232\n",
      "Epoch: 2, Train Loss: 0.9802685515967005, Test Loss: 0.8657955889460407\n",
      "Epoch: 3, Train Loss: 0.8344612863780593, Test Loss: 0.7828211984302424\n",
      "Epoch: 4, Train Loss: 0.7740950875444961, Test Loss: 0.7269797257230252\n",
      "Epoch: 5, Train Loss: 0.6429390729363285, Test Loss: 0.5140658326541321\n",
      "Epoch: 6, Train Loss: 0.4940072226244758, Test Loss: 0.4688158944437775\n",
      "Epoch: 7, Train Loss: 0.4599673300028356, Test Loss: 0.46154512672484677\n",
      "Epoch: 8, Train Loss: 0.4368292269930402, Test Loss: 0.4217748438255696\n",
      "Epoch: 9, Train Loss: 0.4183257525282374, Test Loss: 0.413486298503755\n",
      "Epoch: 10, Train Loss: 0.4046774056992297, Test Loss: 0.4010494764469847\n",
      "Number of paramters in Model 5: 7965\n",
      "Epoch: 1, Train Loss: 1.1637743932606062, Test Loss: 0.623678841545612\n",
      "Epoch: 2, Train Loss: 0.5498333212409192, Test Loss: 0.4838949343826197\n",
      "Epoch: 3, Train Loss: 0.46724805175495554, Test Loss: 0.4363094643701481\n",
      "Epoch: 4, Train Loss: 0.42738213858751856, Test Loss: 0.41682089016407353\n",
      "Epoch: 5, Train Loss: 0.40174698909081374, Test Loss: 0.41101960913289953\n",
      "Epoch: 6, Train Loss: 0.38356403415518275, Test Loss: 0.38628547176530087\n",
      "Epoch: 7, Train Loss: 0.36774822939306434, Test Loss: 0.3816069258919245\n",
      "Epoch: 8, Train Loss: 0.3556166713171676, Test Loss: 0.36625175442122204\n",
      "Epoch: 9, Train Loss: 0.3451681817645457, Test Loss: 0.3551030431555796\n",
      "Epoch: 10, Train Loss: 0.3370057301226455, Test Loss: 0.35744751593734647\n",
      "Number of paramters in Model 6: 9568\n",
      "Epoch: 1, Train Loss: 0.8227075947436697, Test Loss: 0.39925256654431546\n",
      "Epoch: 2, Train Loss: 0.36336844473251145, Test Loss: 0.31202707524541057\n",
      "Epoch: 3, Train Loss: 0.30735713405522713, Test Loss: 0.281114344166804\n",
      "Epoch: 4, Train Loss: 0.2780852500817923, Test Loss: 0.27261554808179034\n",
      "Epoch: 5, Train Loss: 0.2609255538185014, Test Loss: 0.25823461066318465\n",
      "Epoch: 6, Train Loss: 0.24728504541332025, Test Loss: 0.25002281424365463\n",
      "Epoch: 7, Train Loss: 0.234958775214422, Test Loss: 0.2349411709399163\n",
      "Epoch: 8, Train Loss: 0.22686758892400177, Test Loss: 0.23728492054380948\n",
      "Epoch: 9, Train Loss: 0.21660527698139645, Test Loss: 0.22452287710731542\n",
      "Epoch: 10, Train Loss: 0.20697317109592178, Test Loss: 0.21948575775457335\n",
      "Number of paramters in Model 7: 11175\n",
      "Epoch: 1, Train Loss: 0.9251809349573498, Test Loss: 0.4215257861946203\n",
      "Epoch: 2, Train Loss: 0.3827794801388214, Test Loss: 0.334931627104554\n",
      "Epoch: 3, Train Loss: 0.3157713004965772, Test Loss: 0.29277202449267425\n",
      "Epoch: 4, Train Loss: 0.277406338371956, Test Loss: 0.2628954089706457\n",
      "Epoch: 5, Train Loss: 0.2502894843660438, Test Loss: 0.23698056484513644\n",
      "Epoch: 6, Train Loss: 0.22505358921121688, Test Loss: 0.23080694675445557\n",
      "Epoch: 7, Train Loss: 0.210309028101247, Test Loss: 0.2128495663593087\n",
      "Epoch: 8, Train Loss: 0.20101046095143504, Test Loss: 0.2079941636493689\n",
      "Epoch: 9, Train Loss: 0.19323879118158874, Test Loss: 0.2068988371970533\n",
      "Epoch: 10, Train Loss: 0.18726213056363786, Test Loss: 0.21062988863338397\n",
      "Number of paramters in Model 8: 12786\n",
      "Epoch: 1, Train Loss: 1.0844159483401252, Test Loss: 0.7609040963498852\n",
      "Epoch: 2, Train Loss: 0.7340609543740368, Test Loss: 0.711594979974288\n",
      "Epoch: 3, Train Loss: 0.6911255799249799, Test Loss: 0.6761794241168831\n",
      "Epoch: 4, Train Loss: 0.6690547374774144, Test Loss: 0.6582701892792424\n",
      "Epoch: 5, Train Loss: 0.654054445562078, Test Loss: 0.6491330216957044\n",
      "Epoch: 6, Train Loss: 0.6419634832375085, Test Loss: 0.6450405920608134\n",
      "Epoch: 7, Train Loss: 0.6318288515371554, Test Loss: 0.633027319289461\n",
      "Epoch: 8, Train Loss: 0.6250266417511491, Test Loss: 0.6332507382465314\n",
      "Epoch: 9, Train Loss: 0.6185188630877781, Test Loss: 0.6349168317981914\n",
      "Epoch: 10, Train Loss: 0.6137847655109251, Test Loss: 0.6343325284085696\n",
      "Number of paramters in Model 9: 14401\n",
      "Epoch: 1, Train Loss: 1.3732891608911282, Test Loss: 1.1383124597464935\n",
      "Epoch: 2, Train Loss: 1.1062007273183956, Test Loss: 1.0947316243678709\n",
      "Epoch: 3, Train Loss: 1.080766027670171, Test Loss: 1.0798276527018487\n",
      "Epoch: 4, Train Loss: 1.065828084183146, Test Loss: 1.0752336646937117\n",
      "Epoch: 5, Train Loss: 1.0548610733007826, Test Loss: 1.0745266306249401\n",
      "Epoch: 6, Train Loss: 1.0459637711805576, Test Loss: 1.0676068671141998\n",
      "Epoch: 7, Train Loss: 1.0390069806245343, Test Loss: 1.0633762018590034\n",
      "Epoch: 8, Train Loss: 1.0337592864087395, Test Loss: 1.068275285672538\n",
      "Epoch: 9, Train Loss: 1.0288959402265325, Test Loss: 1.04977750099158\n",
      "Epoch: 10, Train Loss: 1.0240270440766552, Test Loss: 1.0462403342693667\n",
      "Number of paramters in Model 10: 16020\n",
      "Epoch: 1, Train Loss: 0.5920261238683769, Test Loss: 0.2695850994013533\n",
      "Epoch: 2, Train Loss: 0.2573675045580752, Test Loss: 0.2315821528811998\n",
      "Epoch: 3, Train Loss: 0.2200393077375284, Test Loss: 0.2095795056865185\n",
      "Epoch: 4, Train Loss: 0.19880026887093527, Test Loss: 0.1892502298460731\n",
      "Epoch: 5, Train Loss: 0.18381920757133569, Test Loss: 0.19899532227199287\n",
      "Epoch: 6, Train Loss: 0.17436396392550804, Test Loss: 0.17757443139400286\n",
      "Epoch: 7, Train Loss: 0.16448225588527823, Test Loss: 0.18163724026725261\n",
      "Epoch: 8, Train Loss: 0.16004092210550297, Test Loss: 0.1778694744445855\n",
      "Epoch: 9, Train Loss: 0.15359489495820328, Test Loss: 0.17576981364171715\n",
      "Epoch: 10, Train Loss: 0.14847331656131155, Test Loss: 0.1691150950574422\n",
      "Number of paramters in Model 11: 17643\n",
      "Epoch: 1, Train Loss: 0.8920176550269381, Test Loss: 0.5654225270204907\n",
      "Epoch: 2, Train Loss: 0.5352369855080586, Test Loss: 0.5028698350055308\n",
      "Epoch: 3, Train Loss: 0.4842387208742882, Test Loss: 0.4736527906188482\n",
      "Epoch: 4, Train Loss: 0.4589222907257487, Test Loss: 0.4485891301043426\n",
      "Epoch: 5, Train Loss: 0.43948256721628753, Test Loss: 0.4411755170248732\n",
      "Epoch: 6, Train Loss: 0.4261567000069344, Test Loss: 0.43511748427077185\n",
      "Epoch: 7, Train Loss: 0.4155169678712959, Test Loss: 0.4249766004990928\n",
      "Epoch: 8, Train Loss: 0.4054533501169575, Test Loss: 0.42253765520415726\n",
      "Epoch: 9, Train Loss: 0.39931019794330924, Test Loss: 0.41864838139920296\n",
      "Epoch: 10, Train Loss: 0.3921885596536624, Test Loss: 0.4139555471984646\n"
     ]
    }
   ],
   "source": [
    "final_train_loss, final_test_loss = [], []\n",
    "final_train_acc, final_test_acc = [], []\n",
    "final_param_arr = []\n",
    "for i in range(1, 12):\n",
    "    # model = globals()[f\"Model{i}\"]()\n",
    "    model = Model(784, 2*i, 10)\n",
    "    total_params = sum(p.numel() for p in model.parameters())\n",
    "    print(f'Number of paramters in Model {i}:',total_params)\n",
    "    loss_function = nn.CrossEntropyLoss()\n",
    "    optimizer = torch.optim.Adam(model.parameters(), lr=1e-3)\n",
    "    train_loss, test_loss, train_acc, test_acc, params = compute_metrics(model, optimizer, train_loader, test_loader)\n",
    "    final_train_loss.append(train_loss)\n",
    "    final_test_loss.append(test_loss)\n",
    "    final_train_acc.append(train_acc)\n",
    "    final_test_acc.append(test_acc)\n",
    "    final_param_arr.append(params)"
   ]
  },
  {
   "cell_type": "code",
   "execution_count": 5,
   "id": "a98b909c-f53e-477c-a40f-eb22fa1de89b",
   "metadata": {
    "tags": []
   },
   "outputs": [
    {
     "name": "stdout",
     "output_type": "stream",
     "text": [
      "11\n",
      "11\n"
     ]
    },
    {
     "data": {
      "image/png": "[encoded data removed]",
      "text/plain": [
       "<Figure size 1000x500 with 1 Axes>"
      ]
     },
     "metadata": {},
     "output_type": "display_data"
    }
   ],
   "source": [
    "#plotting graphs\n",
    "print(len(final_param_arr))\n",
    "print(len(final_train_loss))\n",
    "pt.figure(figsize=(10,5))\n",
    "pt.scatter(final_param_arr, final_train_loss, color='r')\n",
    "pt.scatter(final_param_arr, final_test_loss, color='b')\n",
    "pt.xlabel('Paramters')\n",
    "pt.ylabel('Loss')\n",
    "pt.legend(['Training Loss', 'Testing Loss'])\n",
    "pt.show()"
   ]
  },
  {
   "cell_type": "code",
   "execution_count": 6,
   "id": "c5f15f03-1a85-4bef-9f3b-a520eccdb03b",
   "metadata": {
    "tags": []
   },
   "outputs": [
    {
     "data": {
      "image/png": "[encoded data removed]",
      "text/plain": [
       "<Figure size 1000x500 with 1 Axes>"
      ]
     },
     "metadata": {},
     "output_type": "display_data"
    }
   ],
   "source": [
    "pt.figure(figsize=(10,5))\n",
    "pt.scatter(final_param_arr, final_train_acc, color='green')\n",
    "pt.scatter(final_param_arr, final_test_acc, color='red')\n",
    "pt.xlabel('Paramters')\n",
    "pt.ylabel('Accuracy')\n",
    "pt.legend(['Training Accuracy', 'Testing Accuracy'])\n",
    "\n",
    "pt.show()"
   ]
  },
  {
   "cell_type": "code",
   "execution_count": null,
   "id": "9053a077-38c8-4b62-8b4d-37dfe0dc6b60",
   "metadata": {},
   "outputs": [],
   "source": []
  }
 ],
 "metadata": {
  "kernelspec": {
   "display_name": "My Python",
   "language": "python",
   "name": "python_custom"
  },
  "language_info": {
   "codemirror_mode": {
    "name": "ipython",
    "version": 3
   },
   "file_extension": ".py",
   "mimetype": "text/x-python",
   "name": "python",
   "nbconvert_exporter": "python",
   "pygments_lexer": "ipython3",
   "version": "3.11.9"
  }
 },
 "nbformat": 4,
 "nbformat_minor": 5
}
